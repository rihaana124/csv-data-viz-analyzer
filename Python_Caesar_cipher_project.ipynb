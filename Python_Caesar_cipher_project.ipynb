{
  "nbformat": 4,
  "nbformat_minor": 0,
  "metadata": {
    "colab": {
      "provenance": [],
      "authorship_tag": "ABX9TyO+js6834HNtOTDLczBl6cE",
      "include_colab_link": true
    },
    "kernelspec": {
      "name": "python3",
      "display_name": "Python 3"
    },
    "language_info": {
      "name": "python"
    }
  },
  "cells": [
    {
      "cell_type": "markdown",
      "metadata": {
        "id": "view-in-github",
        "colab_type": "text"
      },
      "source": [
        "<a href=\"https://colab.research.google.com/github/rihaana124/csv-data-viz-analyzer/blob/main/Python_Caesar_cipher_project.ipynb\" target=\"_parent\"><img src=\"https://colab.research.google.com/assets/colab-badge.svg\" alt=\"Open In Colab\"/></a>"
      ]
    },
    {
      "cell_type": "code",
      "source": [
        "# Python Project - Caesar Cipher - Optimized Encryption & Decryption\n",
        "\n",
        "def caesar_cipher(text, shift, mode=\"encrypt\"):\n",
        "    result = \"\"\n",
        "\n",
        "    for char in text:\n",
        "        if char.isalpha():  # Check if character is a letter\n",
        "            shift_direction = shift if mode == \"encrypt\" else -shift\n",
        "            new_char = shift_character(char, shift_direction)\n",
        "            result += new_char\n",
        "        else:\n",
        "            result += char  # Keep special characters unchanged\n",
        "\n",
        "    print(f\"\\nHere is the text after {mode}: {result}\\n\")\n",
        "    return result\n",
        "\n",
        "def shift_character(char, shift):\n",
        "    ascii_start = ord('A') if char.isupper() else ord('a')\n",
        "    return chr(ascii_start + (ord(char) - ascii_start + shift) % 26)\n",
        "\n",
        "# Main loop\n",
        "while True:\n",
        "    mode = input(\"Type 'encrypt' for encryption or 'decrypt' for decryption:\\n\").lower()\n",
        "\n",
        "    if mode not in ['encrypt', 'decrypt']:\n",
        "        print(\"Invalid choice! Please enter 'encrypt' or 'decrypt'.\")\n",
        "        continue\n",
        "\n",
        "    text = input(\"\\nEnter the text here:\\n\")\n",
        "    shift = int(input(\"\\nEnter the shift key:\\n\"))\n",
        "\n",
        "    caesar_cipher(text, shift, mode)\n",
        "\n",
        "    play_again = input(\"\\nType 'yes' to continue, or 'no' to exit:\\n\").lower()\n",
        "    if play_again == 'no':\n",
        "        break\n",
        "\n",
        "print(\"Have a nice day! Bye 👋\")"
      ],
      "metadata": {
        "colab": {
          "base_uri": "https://localhost:8080/"
        },
        "id": "fUTzj6v3x2j8",
        "outputId": "53bdb753-0089-409c-ccbb-664f8d445b2a"
      },
      "execution_count": null,
      "outputs": [
        {
          "output_type": "stream",
          "name": "stdout",
          "text": [
            "Type 'encrypt' for encryption or 'decrypt' for decryption:\n",
            "Riha 2@! Oxford\n",
            "Invalid choice! Please enter 'encrypt' or 'decrypt'.\n",
            "Type 'encrypt' for encryption or 'decrypt' for decryption:\n",
            "encrypt\n",
            "\n",
            "Enter the text here:\n",
            "Riha 2@! Oxford\n",
            "\n",
            "Enter the shift key:\n",
            "3\n",
            "\n",
            "Here is the text after encrypt: Ulkd 2@! Rairug\n",
            "\n",
            "\n",
            "Type 'yes' to continue, or 'no' to exit:\n",
            "yes\n",
            "Type 'encrypt' for encryption or 'decrypt' for decryption:\n",
            "decrypt\n",
            "\n",
            "Enter the text here:\n",
            "Ulkd 2@! Rairug\n",
            "\n",
            "Enter the shift key:\n",
            "3\n",
            "\n",
            "Here is the text after decrypt: Riha 2@! Oxford\n",
            "\n",
            "\n",
            "Type 'yes' to continue, or 'no' to exit:\n",
            "no\n",
            "Have a nice day! Bye 👋\n"
          ]
        }
      ]
    }
  ]
}